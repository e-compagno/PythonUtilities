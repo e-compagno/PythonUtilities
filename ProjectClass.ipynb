{
 "cells": [
  {
   "cell_type": "code",
   "execution_count": null,
   "metadata": {},
   "outputs": [],
   "source": [
    "\"\"\"\n",
    "Author: Enrico Compagno\n",
    "Title: Project class\n",
    "Version: 0.1.0\n",
    "\n",
    "\"\"\"\n",
    "\n",
    "class Project:\n",
    "    def __init__(self,proj_dir,proj_title=''):\n",
    "        self.proj_dir = proj_dir\n",
    "        self.data_dir = proj_dir + 'data/'\n",
    "        self.src_dir = proj_dir + 'src/'\n",
    "        self.proj_title = proj_title\n",
    "        \n",
    "        if not os.isdir(self.data_dir):\n",
    "            os.mkdir(self.data_dir)\n",
    "        if not os.isdir(self.src_dir):\n",
    "            os.mkdir(self.src_dir)\n",
    "        self.datafile_list=[]\n",
    "        \n",
    "    def ImportData(self,datafile_list):\n",
    "        try:\n",
    "            if not isinstance(datafile_list):\n",
    "                raise TypeError('ERROR: data input must be a list\\n')\n",
    "            if len(datafile_list) == 0:\n",
    "                raise IndexError('ERROR: input cannot be empty')\n",
    "            for file in datafile_list:\n",
    "                if not os.path.isfile(file):\n",
    "                    raise FileNotFoundError('ERROR: file {0} not found'.format(file))\n",
    "                self.datafile_list.append(file)\n",
    "            \n",
    "        except TypeError as msg_te_err:\n",
    "            print(msg_te_err)\n",
    "        except IndexError as msg_idx_err:\n",
    "            print(msg_idx_err)\n",
    "    def __str__(self):\n",
    "        print('Project {0}'.format(proj_title))\n",
    "        print('------------------------------')\n",
    "        print('\\nSource files:')\n",
    "        \n",
    "        print('\\nData files:')\n",
    "        for file in self.datafile_list:\n",
    "            print(file)\n",
    "        return ''"
   ]
  }
 ],
 "metadata": {
  "kernelspec": {
   "display_name": "Python 3",
   "language": "python",
   "name": "python3"
  },
  "language_info": {
   "codemirror_mode": {
    "name": "ipython",
    "version": 3
   },
   "file_extension": ".py",
   "mimetype": "text/x-python",
   "name": "python",
   "nbconvert_exporter": "python",
   "pygments_lexer": "ipython3",
   "version": "3.7.2"
  }
 },
 "nbformat": 4,
 "nbformat_minor": 2
}
